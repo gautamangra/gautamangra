{
 "cells": [
  {
   "cell_type": "markdown",
   "metadata": {},
   "source": [
    "# Write a Python program to get a list, sorted in increasing order by the last element in each tuple from a given list of non-empty tuples\n",
    "\n"
   ]
  },
  {
   "cell_type": "code",
   "execution_count": 1,
   "metadata": {},
   "outputs": [],
   "source": [
    "\n",
    "#Sample List : [(2, 5), (1, 2), (4, 4), (2, 3), (2, 1)]\n",
    "\n",
    "#Expected Result : [(2, 1), (1, 2), (2, 3), (4, 4), (2, 5)]"
   ]
  },
  {
   "cell_type": "code",
   "execution_count": 4,
   "metadata": {},
   "outputs": [
    {
     "name": "stdout",
     "output_type": "stream",
     "text": [
      "[(2, 1), (1, 2), (2, 3), (4, 4), (2, 5)]\n"
     ]
    }
   ],
   "source": [
    "# 1st Method\n",
    "\n",
    "def Sort_Tuple(tup):  \n",
    "    \n",
    "   \n",
    "    tup.sort(key = lambda x: x[-1])  \n",
    "    return tup\n",
    "tup = [(2,5),(1,2),(4,4),(2,3),(2,1)] \n",
    "      \n",
    "print(Sort_Tuple(tup))  "
   ]
  },
  {
   "cell_type": "code",
   "execution_count": 5,
   "metadata": {},
   "outputs": [
    {
     "name": "stdout",
     "output_type": "stream",
     "text": [
      "[(2, 1), (1, 2), (2, 3), (4, 4), (2, 5)]\n"
     ]
    }
   ],
   "source": [
    "#c2nd Method\n",
    "\n",
    "def last(n): \n",
    "    return n[-1]\n",
    "\n",
    "def sort_list_last(tuples):\n",
    "    return sorted(tuples, key=last)\n",
    "\n",
    "print(sort_list_last([(2, 5), (1, 2), (4, 4), (2, 3), (2, 1)]))"
   ]
  },
  {
   "cell_type": "code",
   "execution_count": null,
   "metadata": {},
   "outputs": [],
   "source": []
  }
 ],
 "metadata": {
  "kernelspec": {
   "display_name": "Python 3",
   "language": "python",
   "name": "python3"
  },
  "language_info": {
   "codemirror_mode": {
    "name": "ipython",
    "version": 3
   },
   "file_extension": ".py",
   "mimetype": "text/x-python",
   "name": "python",
   "nbconvert_exporter": "python",
   "pygments_lexer": "ipython3",
   "version": "3.8.5"
  }
 },
 "nbformat": 4,
 "nbformat_minor": 4
}
