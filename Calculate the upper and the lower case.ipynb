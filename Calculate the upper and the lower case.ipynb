{
 "cells": [
  {
   "cell_type": "markdown",
   "metadata": {},
   "source": [
    "# Write a Python function that accepts a string and calculate the number of upper case letters and lower case letters.\n",
    "\n",
    "\n",
    "\n",
    "#Sample String : 'The quick Brow Fox'\n",
    "\n",
    "#Expected Output :\n",
    "\n",
    "#No. of Upper case characters : 3\n",
    "\n",
    "#No. of Lower case Characters : 12\n",
    "\n"
   ]
  },
  {
   "cell_type": "code",
   "execution_count": 7,
   "metadata": {},
   "outputs": [
    {
     "name": "stdout",
     "output_type": "stream",
     "text": [
      "Original String :  The quick Brow Fox\n",
      "No. of Upper case characters :  3\n",
      "No. of Lower case Characters :  12\n"
     ]
    }
   ],
   "source": [
    "def myFunc(a):\n",
    "    x ={\"upper_case\":0, \"lower_case\":0}\n",
    "    for b in a:\n",
    "        if b.isupper():\n",
    "            x[\"upper_case\"]+=1\n",
    "        elif b.islower():\n",
    "            x[\"lower_case\"]+=1\n",
    "        else:\n",
    "            pass\n",
    "        print(\"original string: \",a)\n",
    "        print(\"no. of UPPER case characters :\",x[\"upper_case\"])\n",
    "        print(\"no. of lower case characters :\",x[\"lower_case\"])\n",
    "        \n",
    "string_test('The quick Brow Fox')"
   ]
  },
  {
   "cell_type": "code",
   "execution_count": null,
   "metadata": {},
   "outputs": [],
   "source": []
  }
 ],
 "metadata": {
  "kernelspec": {
   "display_name": "Python 3",
   "language": "python",
   "name": "python3"
  },
  "language_info": {
   "codemirror_mode": {
    "name": "ipython",
    "version": 3
   },
   "file_extension": ".py",
   "mimetype": "text/x-python",
   "name": "python",
   "nbconvert_exporter": "python",
   "pygments_lexer": "ipython3",
   "version": "3.8.5"
  }
 },
 "nbformat": 4,
 "nbformat_minor": 4
}
